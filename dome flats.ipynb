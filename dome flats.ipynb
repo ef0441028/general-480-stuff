{
 "cells": [
  {
   "cell_type": "code",
   "execution_count": 48,
   "metadata": {},
   "outputs": [],
   "source": [
    "from astropy.io import fits\n",
    "import numpy as np\n",
    "import matplotlib.pyplot as plt\n",
    "from astropy.visualization import astropy_mpl_style\n",
    "plt.style.use(astropy_mpl_style)\n",
    "from astropy.utils.data import get_pkg_data_filename\n",
    "import csv"
   ]
  },
  {
   "cell_type": "code",
   "execution_count": 114,
   "metadata": {},
   "outputs": [
    {
     "name": "stdout",
     "output_type": "stream",
     "text": [
      "Filename: test.fits\n",
      "No.    Name      Ver    Type      Cards   Dimensions   Format\n",
      "  0  PRIMARY       1 PrimaryHDU     161   ()      \n",
      "  1                1 ImageHDU        11   (2048, 300)   float32   \n",
      "  2                1 ImageHDU         9   (300,)   float32   \n",
      "  3                1 ImageHDU         9   (2048,)   float32   \n",
      "(300, 2048)\n"
     ]
    }
   ],
   "source": [
    "image_file = get_pkg_data_filename('test.fits')\n",
    "\n",
    "fits.info(image_file)\n",
    "\n",
    "image_data = fits.getdata(image_file, ext=0)\n",
    "\n",
    "print(image_data.shape)"
   ]
  },
  {
   "cell_type": "code",
   "execution_count": 115,
   "metadata": {},
   "outputs": [
    {
     "data": {
      "image/png": "[encoded data removed]",
      "text/plain": [
       "<matplotlib.figure.Figure at 0x7f3ccfd6ada0>"
      ]
     },
     "metadata": {},
     "output_type": "display_data"
    }
   ],
   "source": [
    "plt.figure()\n",
    "plt.imshow(image_data, cmap='gray');"
   ]
  },
  {
   "cell_type": "code",
   "execution_count": 116,
   "metadata": {},
   "outputs": [],
   "source": [
    "hdul = fits.open(image_file)\n",
    "\n",
    "hdr = hdul[0].header"
   ]
  },
  {
   "cell_type": "code",
   "execution_count": 117,
   "metadata": {},
   "outputs": [
    {
     "data": {
      "text/plain": [
       "('/data/data-ql/data/57914/asRaw-23520077-001.fits',\n",
       " 9797,\n",
       " 25,\n",
       " 'DomeFlat',\n",
       " 'None')"
      ]
     },
     "execution_count": 117,
     "metadata": {},
     "output_type": "execute_result"
    }
   ],
   "source": [
    "mylist = hdr['FILENAME'], hdr['PLATEID'], hdr['CARTID'], hdr['IMAGETYP'], hdr['OBSCMNT']\n",
    "\n",
    "mylist"
   ]
  },
  {
   "cell_type": "code",
   "execution_count": 141,
   "metadata": {},
   "outputs": [
    {
     "name": "stdout",
     "output_type": "stream",
     "text": [
      "asFlux-a-23530096.fits\n",
      "asFlux-a-23530042.fits\n",
      "table.dat\n",
      "Untitled.ipynb\n",
      "asFlux-a-23540009.fits\n",
      "asFlux-a-23530064.fits\n",
      "asFlux-a-23530053.fits\n",
      "asFlux-a-23540053.fits\n",
      "asFlux-a-23530075.fits\n",
      "asFlux-a-23530031.fits\n",
      "flats.csv\n",
      "asFlux-a-23540020.fits\n",
      "flats.txt\n",
      "asFlux-a-23520097.fits\n",
      "asFlux-a-23530020.fits\n",
      "asFlux-a-23530009.fits\n",
      "asFlux-a-23540031.fits\n",
      "test.fits\n"
     ]
    }
   ],
   "source": [
    "import os\n",
    "from glob import iglob\n",
    "\n",
    "rootdir_glob = 'C:/Users/emily/Documents/dome flats south/**/*' # Note the added asterisks\n",
    "# This will return absolute paths\n",
    "file_list = [f for f in iglob('**/*', recursive=True) if os.path.isfile(f)]\n",
    "for f in file_list:\n",
    "    print(f)"
   ]
  },
  {
   "cell_type": "code",
   "execution_count": 92,
   "metadata": {},
   "outputs": [],
   "source": [
    "with open('flats.csv', 'a') as f:\n",
    "    for item in mylist:\n",
    "        f.write(\"%s\\n\" % item)"
   ]
  },
  {
   "cell_type": "code",
   "execution_count": null,
   "metadata": {},
   "outputs": [],
   "source": []
  }
 ],
 "metadata": {
  "kernelspec": {
   "display_name": "Python 3",
   "language": "python",
   "name": "python3"
  },
  "language_info": {
   "codemirror_mode": {
    "name": "ipython",
    "version": 3
   },
   "file_extension": ".py",
   "mimetype": "text/x-python",
   "name": "python",
   "nbconvert_exporter": "python",
   "pygments_lexer": "ipython3",
   "version": "3.6.4"
  }
 },
 "nbformat": 4,
 "nbformat_minor": 2
}
