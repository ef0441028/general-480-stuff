{
 "cells": [
  {
   "cell_type": "markdown",
   "metadata": {},
   "source": [
    "# Detector Gain\n",
    "\n",
    "You could calculate the mean of each flat image manually using IRAF. Alternatively, you could calculate the means for all of the images automatically using Python."
   ]
  },
  {
   "cell_type": "code",
   "execution_count": 29,
   "metadata": {},
   "outputs": [],
   "source": [
    "from astropy.io import fits\n",
    "import numpy as np\n",
    "import matplotlib.pyplot as plt\n",
    "# glob serves some of the same functions as ls in the terminal\n",
    "import glob"
   ]
  },
  {
   "cell_type": "markdown",
   "metadata": {},
   "source": [
    "## FITS Headers\n",
    "The headers of the FITS files contain the exposure times of the flat images. Now we use `fits.open` instead of `fits.getdata`. HDU stands for Header/Data Unit."
   ]
  },
  {
   "cell_type": "code",
   "execution_count": 30,
   "metadata": {},
   "outputs": [
    {
     "ename": "NameError",
     "evalue": "name 'header' is not defined",
     "output_type": "error",
     "traceback": [
      "\u001b[0;31m---------------------------------------------------------------------------\u001b[0m",
      "\u001b[0;31mNameError\u001b[0m                                 Traceback (most recent call last)",
      "\u001b[0;32m<ipython-input-30-8c806d516808>\u001b[0m in \u001b[0;36m<module>\u001b[0;34m()\u001b[0m\n\u001b[1;32m      1\u001b[0m \u001b[0mhdu\u001b[0m \u001b[0;34m=\u001b[0m \u001b[0mfits\u001b[0m\u001b[0;34m.\u001b[0m\u001b[0mopen\u001b[0m\u001b[0;34m(\u001b[0m\u001b[0;34m'Flat1s.fits'\u001b[0m\u001b[0;34m)\u001b[0m\u001b[0;34m\u001b[0m\u001b[0m\n\u001b[1;32m      2\u001b[0m \u001b[0mheader1\u001b[0m \u001b[0;34m=\u001b[0m \u001b[0mhdu\u001b[0m\u001b[0;34m[\u001b[0m\u001b[0;36m0\u001b[0m\u001b[0;34m]\u001b[0m\u001b[0;34m.\u001b[0m\u001b[0mheader\u001b[0m\u001b[0;34m\u001b[0m\u001b[0m\n\u001b[0;32m----> 3\u001b[0;31m \u001b[0mprint\u001b[0m\u001b[0;34m(\u001b[0m\u001b[0mheader\u001b[0m\u001b[0;34m[\u001b[0m\u001b[0;34m'exptime'\u001b[0m\u001b[0;34m]\u001b[0m\u001b[0;34m)\u001b[0m\u001b[0;34m\u001b[0m\u001b[0m\n\u001b[0m",
      "\u001b[0;31mNameError\u001b[0m: name 'header' is not defined"
     ]
    }
   ],
   "source": [
    "hdu = fits.open('Flat1s.fits')\n",
    "header1 = hdu[0].header\n",
    "print(header['exptime'])"
   ]
  },
  {
   "cell_type": "markdown",
   "metadata": {},
   "source": [
    "## Calculating Mean Counts\n",
    "We can find all of the flat images, assuming they all have 'Flat' in the name.\n",
    "#### You will need to change the path to the directory containing your data."
   ]
  },
  {
   "cell_type": "code",
   "execution_count": 37,
   "metadata": {},
   "outputs": [
    {
     "name": "stdout",
     "output_type": "stream",
     "text": [
      "['Flat18.fits', 'Flat.0125s.fits', 'Flat54.fits', 'Flat2.25.fits', 'Flat1m.fits', 'Flat81.fits', 'Flat63.fits', 'Flat27.fits', 'Flat45.fits', 'Flat9s.fits', 'Flat.5625s.fits', 'Flat72.fits', 'Flat30s.fits', 'Flat.28125s.fits', 'Flat2s.fits', 'Flat1s.fits', 'Flat36.fits']\n"
     ]
    }
   ],
   "source": [
    "# This is equivalent to $ ls Flat*.fits\n",
    "flat_list = glob.glob('Flat*.fits')\n",
    "print(flat_list)"
   ]
  },
  {
   "cell_type": "markdown",
   "metadata": {},
   "source": [
    "Now we can loop through each flat image, and keep track of the exposure time and mean counts"
   ]
  },
  {
   "cell_type": "code",
   "execution_count": 38,
   "metadata": {},
   "outputs": [
    {
     "name": "stdout",
     "output_type": "stream",
     "text": [
      "Exposure time 18.0 sec\n",
      "Mean counts: 58514.69\n",
      "\n",
      "Exposure time 1.125 sec\n",
      "Mean counts: 58525.74\n",
      "\n",
      "Exposure time 54.0 sec\n",
      "Mean counts: 58520.90\n",
      "\n",
      "Exposure time 0.12 sec\n",
      "Mean counts: 58259.32\n",
      "\n",
      "Exposure time 90.0 sec\n",
      "Mean counts: 58515.42\n",
      "\n",
      "Exposure time 81.0 sec\n",
      "Mean counts: 58503.41\n",
      "\n",
      "Exposure time 63.0 sec\n",
      "Mean counts: 58502.91\n",
      "\n",
      "Exposure time 27.0 sec\n",
      "Mean counts: 58523.80\n",
      "\n",
      "Exposure time 45.0 sec\n",
      "Mean counts: 58517.81\n",
      "\n",
      "Exposure time 9.0 sec\n",
      "Mean counts: 58520.26\n",
      "\n",
      "Exposure time 0.562 sec\n",
      "Mean counts: 58525.80\n",
      "\n",
      "Exposure time 72.0 sec\n",
      "Mean counts: 58516.21\n",
      "\n",
      "Exposure time 0.12 sec\n",
      "Mean counts: 58262.76\n",
      "\n",
      "Exposure time 0.281 sec\n",
      "Mean counts: 58527.59\n",
      "\n",
      "Exposure time 2.0 sec\n",
      "Mean counts: 58527.30\n",
      "\n",
      "Exposure time 1.0 sec\n",
      "Mean counts: 58525.52\n",
      "\n",
      "Exposure time 36.0 sec\n",
      "Mean counts: 58507.90\n",
      "\n"
     ]
    }
   ],
   "source": [
    "# These are empty lists (arrays) to store the exposure times and mean counts\n",
    "exp_times = []\n",
    "means = []\n",
    "\n",
    "for filename in flat_list:\n",
    "    # Open the FITS file\n",
    "    hdu = fits.open(filename)\n",
    "    \n",
    "    exptime = hdu[0].header['exptime']\n",
    "    print('Exposure time {} sec'.format(exptime))\n",
    "    \n",
    "    # This will append the exposure time for each image to the array\n",
    "    exp_times.append(exptime)\n",
    "    \n",
    "    # Same for mean counts\n",
    "    mean_counts = np.mean(hdu[0].data)\n",
    "    print('Mean counts: {:.2f}\\n'.format(mean_counts))\n",
    "    means.append(mean_counts)\n",
    "\n",
    "# Convert to Numpy arrays so they can be sorted\n",
    "exp_times = np.array(exp_times)\n",
    "means = np.array(means)\n",
    "\n",
    "# Sort by exposure time so the plot looks correct\n",
    "time_sort = np.argsort(exp_times)\n",
    "exp_times = exp_times[time_sort]\n",
    "means = means[time_sort]"
   ]
  },
  {
   "cell_type": "markdown",
   "metadata": {},
   "source": [
    "## Plot mean counts versus exposure time\n"
   ]
  },
  {
   "cell_type": "code",
   "execution_count": 39,
   "metadata": {},
   "outputs": [
    {
     "data": {
      "image/png": "[encoded data removed]",
      "text/plain": [
       "<matplotlib.figure.Figure at 0x7ff1a4d98550>"
      ]
     },
     "metadata": {},
     "output_type": "display_data"
    }
   ],
   "source": [
    "plt.figure(figsize=(10, 8))\n",
    "plt.rcParams['font.size'] = 16\n",
    "\n",
    "plt.plot(exp_times, means, '-ko')\n",
    "plt.xlabel('Exposure Time (sec)')\n",
    "plt.ylabel('Mean counts')\n",
    "plt.show()"
   ]
  },
  {
   "cell_type": "code",
   "execution_count": 43,
   "metadata": {},
   "outputs": [
    {
     "name": "stdout",
     "output_type": "stream",
     "text": [
      "['480_2018_.Flat.100S0X1.R.15.fits', '480_2018_.Flat.30S0X1.R.25.fits', '480_2018_.Flat.90S0X1.R.20.fits', '480_2018_.Flat.10S0X1.R.23.fits', '480_2018_.Flat.1S0X1.R.18.fits', '480_2018_.Flat.45S0X1.R.26.fits', '480_2018_.Flat.0S0X1.R.17.fits', '480_2018_.Flat.120S0X1.R.13.fits', '480_2018_.Flat.60S0X1.R.21.fits', '480_2018_.Flat.20S0X2.R.27.fits', '480_2018_.Flat.0S0X1.R.16.fits', '480_2018_.Flat.110S0X1.R.14.fits', '480_2018_.Flat.60S0X1.R.22.fits', '480_2018_.Flat.5S0X1.R.19.fits']\n"
     ]
    }
   ],
   "source": [
    "# This is equivalent to $ ls Flat*.fits\n",
    "flat_list2 = glob.glob('*R.*.fits')\n",
    "print(flat_list2)"
   ]
  },
  {
   "cell_type": "code",
   "execution_count": 44,
   "metadata": {},
   "outputs": [
    {
     "name": "stdout",
     "output_type": "stream",
     "text": [
      "Exposure time 18.0 sec\n",
      "Mean counts: 58514.69\n",
      "\n",
      "Exposure time 1.125 sec\n",
      "Mean counts: 58525.74\n",
      "\n",
      "Exposure time 54.0 sec\n",
      "Mean counts: 58520.90\n",
      "\n",
      "Exposure time 0.12 sec\n",
      "Mean counts: 58259.32\n",
      "\n",
      "Exposure time 90.0 sec\n",
      "Mean counts: 58515.42\n",
      "\n",
      "Exposure time 81.0 sec\n",
      "Mean counts: 58503.41\n",
      "\n",
      "Exposure time 63.0 sec\n",
      "Mean counts: 58502.91\n",
      "\n",
      "Exposure time 27.0 sec\n",
      "Mean counts: 58523.80\n",
      "\n",
      "Exposure time 45.0 sec\n",
      "Mean counts: 58517.81\n",
      "\n",
      "Exposure time 9.0 sec\n",
      "Mean counts: 58520.26\n",
      "\n",
      "Exposure time 0.562 sec\n",
      "Mean counts: 58525.80\n",
      "\n",
      "Exposure time 72.0 sec\n",
      "Mean counts: 58516.21\n",
      "\n",
      "Exposure time 0.12 sec\n",
      "Mean counts: 58262.76\n",
      "\n",
      "Exposure time 0.281 sec\n",
      "Mean counts: 58527.59\n",
      "\n",
      "Exposure time 2.0 sec\n",
      "Mean counts: 58527.30\n",
      "\n",
      "Exposure time 1.0 sec\n",
      "Mean counts: 58525.52\n",
      "\n",
      "Exposure time 36.0 sec\n",
      "Mean counts: 58507.90\n",
      "\n"
     ]
    }
   ],
   "source": [
    "# These are empty lists (arrays) to store the exposure times and mean counts\n",
    "exp_times = []\n",
    "means = []\n",
    "\n",
    "for filename in flat_list:\n",
    "    # Open the FITS file\n",
    "    hdu = fits.open(filename)\n",
    "    \n",
    "    exptime = hdu[0].header['exptime']\n",
    "    print('Exposure time {} sec'.format(exptime))\n",
    "    \n",
    "    # This will append the exposure time for each image to the array\n",
    "    exp_times.append(exptime)\n",
    "    \n",
    "    # Same for mean counts\n",
    "    mean_counts = np.mean(hdu[0].data)\n",
    "    print('Mean counts: {:.2f}\\n'.format(mean_counts))\n",
    "    means.append(mean_counts)\n",
    "\n",
    "# Convert to Numpy arrays so they can be sorted\n",
    "exp_times = np.array(exp_times)\n",
    "means = np.array(means)\n",
    "\n",
    "# Sort by exposure time so the plot looks correct\n",
    "time_sort = np.argsort(exp_times)\n",
    "exp_times = exp_times[time_sort]\n",
    "means = means[time_sort]"
   ]
  },
  {
   "cell_type": "code",
   "execution_count": 45,
   "metadata": {},
   "outputs": [
    {
     "data": {
      "image/png": "[encoded data removed]",
      "text/plain": [
       "<matplotlib.figure.Figure at 0x7ff1a4c91fd0>"
      ]
     },
     "metadata": {},
     "output_type": "display_data"
    }
   ],
   "source": [
    "plt.figure(figsize=(10, 8))\n",
    "plt.rcParams['font.size'] = 16\n",
    "\n",
    "plt.plot(exp_times, means, '-ko')\n",
    "plt.xlabel('Exposure Time (sec)')\n",
    "plt.ylabel('Mean counts')\n",
    "plt.show()"
   ]
  },
  {
   "cell_type": "code",
   "execution_count": null,
   "metadata": {},
   "outputs": [],
   "source": []
  }
 ],
 "metadata": {
  "anaconda-cloud": {},
  "kernelspec": {
   "display_name": "Python 3",
   "language": "python",
   "name": "python3"
  },
  "language_info": {
   "codemirror_mode": {
    "name": "ipython",
    "version": 3
   },
   "file_extension": ".py",
   "mimetype": "text/x-python",
   "name": "python",
   "nbconvert_exporter": "python",
   "pygments_lexer": "ipython3",
   "version": "3.6.4"
  }
 },
 "nbformat": 4,
 "nbformat_minor": 1
}
