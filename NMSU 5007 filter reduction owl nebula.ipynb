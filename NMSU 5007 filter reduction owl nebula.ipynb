{
 "cells": [
  {
   "cell_type": "markdown",
   "metadata": {},
   "source": [
    "Code used was found on the Lick Observatory PDF linked in the paper references- jointly worked on with Ben Piacitelli"
   ]
  },
  {
   "cell_type": "code",
   "execution_count": 1,
   "metadata": {},
   "outputs": [],
   "source": [
    "from astropy.io import fits\n",
    "import numpy as np"
   ]
  },
  {
   "cell_type": "code",
   "execution_count": 3,
   "metadata": {},
   "outputs": [],
   "source": [
    "!ls *bias*.fits > bias.list"
   ]
  },
  {
   "cell_type": "code",
   "execution_count": 4,
   "metadata": {},
   "outputs": [],
   "source": [
    "biasfiles = [line.rstrip('\\n') for line in open('bias.list')]"
   ]
  },
  {
   "cell_type": "code",
   "execution_count": 5,
   "metadata": {},
   "outputs": [],
   "source": [
    "data_stack = []\n",
    "for file in biasfiles:\n",
    "    data_stack.append(fits.getdata(file))"
   ]
  },
  {
   "cell_type": "code",
   "execution_count": 6,
   "metadata": {},
   "outputs": [],
   "source": [
    "medianBias = np.median(data_stack,axis=0)"
   ]
  },
  {
   "cell_type": "code",
   "execution_count": 7,
   "metadata": {},
   "outputs": [],
   "source": [
    "header = fits.getheader(biasfiles[0])"
   ]
  },
  {
   "cell_type": "code",
   "execution_count": 8,
   "metadata": {},
   "outputs": [],
   "source": [
    "header['HISTORY'] = 'Median combined'"
   ]
  },
  {
   "cell_type": "code",
   "execution_count": 15,
   "metadata": {},
   "outputs": [],
   "source": [
    "datafilesin = [line.rstrip('\\n') for line in open('files_without_bias.list')]\n",
    "datafilesout = [line.rstrip('\\n') for line in open('files_subtracted_bias.list')]\n",
    "\n",
    "\n",
    "n = len(datafilesin)\n",
    "\n",
    "for i in range(0,n):\n",
    "    data = fits.getdata(datafilesin[i],header=False)\n",
    "    dataout = data - medianBias\n",
    "   # header['HISTORY'] = 'Bias subtracted'\n",
    "    fits.writeto(datafilesout[i],dataout)"
   ]
  },
  {
   "cell_type": "code",
   "execution_count": 20,
   "metadata": {},
   "outputs": [],
   "source": [
    "flatfiles_5007=[line.rstrip('\\n') for line in open('flats_5007.list')]"
   ]
  },
  {
   "cell_type": "code",
   "execution_count": null,
   "metadata": {},
   "outputs": [],
   "source": [
    "_5007_flat_stack = []\n",
    "for file in flatfiles_5007:\n",
    "    data = fits.getdata(file,header=False)\n",
    "    data = data / np.median(data)\n",
    "    _5007_flat_stack.append(data)"
   ]
  },
  {
   "cell_type": "code",
   "execution_count": 43,
   "metadata": {},
   "outputs": [],
   "source": [
    "_5007_flat_median=np.median(_5007_flat_stack,axis=0)\n",
    "m=np.mean(_5007_flat_median)\n",
    "_5007_flat_median=_5007_flat/m\n",
    "\n",
    "#header['HISTORY'] = 'Combined and normalized flat field'\n",
    "fits.writeto('_5007_flat_median.fits',_5007_flat_median)"
   ]
  },
  {
   "cell_type": "code",
   "execution_count": 44,
   "metadata": {},
   "outputs": [],
   "source": [
    "nmsu_datain = [line.rstrip('\\n') for line in open('5007_data.list')]\n",
    "nmsu_dataout = [line.rstrip('\\n') for line in open('5007_data_out.list')]"
   ]
  },
  {
   "cell_type": "code",
   "execution_count": null,
   "metadata": {},
   "outputs": [],
   "source": [
    "n=len(nmsu_datain)\n",
    "\n",
    "for i in range(0,n):\n",
    " data,header = fits.getdata(nmsu_datain[i],header=True)\n",
    " dataout = data / _5007_flat_median\n",
    " header['HISTORY'] = 'Flat Fielded'\n",
    " fits.writeto(nmsu_dataout[i],dataout,header)"
   ]
  },
  {
   "cell_type": "code",
   "execution_count": null,
   "metadata": {},
   "outputs": [],
   "source": []
  }
 ],
 "metadata": {
  "kernelspec": {
   "display_name": "Python 3",
   "language": "python",
   "name": "python3"
  },
  "language_info": {
   "codemirror_mode": {
    "name": "ipython",
    "version": 3
   },
   "file_extension": ".py",
   "mimetype": "text/x-python",
   "name": "python",
   "nbconvert_exporter": "python",
   "pygments_lexer": "ipython3",
   "version": "3.6.4"
  }
 },
 "nbformat": 4,
 "nbformat_minor": 2
}
