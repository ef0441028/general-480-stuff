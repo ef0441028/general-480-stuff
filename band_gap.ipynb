{
 "cells": [
  {
   "cell_type": "markdown",
   "metadata": {},
   "source": [
    "# Silicon Band Gap Energy"
   ]
  },
  {
   "cell_type": "code",
   "execution_count": 26,
   "metadata": {},
   "outputs": [],
   "source": [
    "import numpy as np\n",
    "import matplotlib.pyplot as plt\n",
    "# We will use the scipy curve_fit function to fit a model to data.\n",
    "from scipy.optimize import curve_fit"
   ]
  },
  {
   "cell_type": "markdown",
   "metadata": {},
   "source": [
    "Enter data from table as numpy arrays"
   ]
  },
  {
   "cell_type": "code",
   "execution_count": 27,
   "metadata": {},
   "outputs": [],
   "source": [
    "t_cel = np.array([-15., -10., -8., -6., -4.2, -2.3, 0., 2., \n",
    "                3.6, 5.8, 8.2, 10., 12.8, 16.2, 20.])\n",
    "adu = np.array([13, 15, 16, 17, 19, 22, 24, 28, 32, 37, \n",
    "                43, 50, 62, 89, 139])"
   ]
  },
  {
   "cell_type": "markdown",
   "metadata": {},
   "source": [
    "Convert Celsius to Kelvin"
   ]
  },
  {
   "cell_type": "code",
   "execution_count": 28,
   "metadata": {},
   "outputs": [
    {
     "data": {
      "text/plain": [
       "array([258.15, 263.15, 265.15, 267.15, 268.95, 270.85, 273.15, 275.15,\n",
       "       276.75, 278.95, 281.35, 283.15, 285.95, 289.35, 293.15])"
      ]
     },
     "execution_count": 28,
     "metadata": {},
     "output_type": "execute_result"
    }
   ],
   "source": [
    "t_kel = t_cel+273.15"
   ]
  },
  {
   "cell_type": "markdown",
   "metadata": {},
   "source": [
    "Convert ADU (counts) to electrons"
   ]
  },
  {
   "cell_type": "code",
   "execution_count": 29,
   "metadata": {},
   "outputs": [
    {
     "data": {
      "text/plain": [
       "array([ 29.9,  34.5,  36.8,  39.1,  43.7,  50.6,  55.2,  64.4,  73.6,\n",
       "        85.1,  98.9, 115. , 142.6, 204.7, 319.7])"
      ]
     },
     "execution_count": 29,
     "metadata": {},
     "output_type": "execute_result"
    }
   ],
   "source": [
    "electrons = 2.3*adu"
   ]
  },
  {
   "cell_type": "markdown",
   "metadata": {},
   "source": [
    "Convert electrons to electrons per second"
   ]
  },
  {
   "cell_type": "code",
   "execution_count": 30,
   "metadata": {},
   "outputs": [
    {
     "data": {
      "text/plain": [
       "array([0.24916667, 0.2875    , 0.30666667, 0.32583333, 0.36416667,\n",
       "       0.42166667, 0.46      , 0.53666667, 0.61333333, 0.70916667,\n",
       "       0.82416667, 0.95833333, 1.18833333, 1.70583333, 2.66416667])"
      ]
     },
     "execution_count": 30,
     "metadata": {},
     "output_type": "execute_result"
    }
   ],
   "source": [
    "electrons_per_sec = electrons/120"
   ]
  },
  {
   "cell_type": "markdown",
   "metadata": {},
   "source": [
    "## Plot dark current (e-/sec) vs. inverse temperature\n",
    "Make a plot in the cell below"
   ]
  },
  {
   "cell_type": "code",
   "execution_count": 56,
   "metadata": {},
   "outputs": [
    {
     "data": {
      "image/png": "[encoded data removed]",
      "text/plain": [
       "<matplotlib.figure.Figure at 0x7f2a9c89c940>"
      ]
     },
     "metadata": {},
     "output_type": "display_data"
    }
   ],
   "source": [
    "fig, ax = plt.subplots(1,1)     \n",
    "fig.set_size_inches(10,6)\n",
    "\n",
    "fig.tight_layout()\n",
    "\n",
    "y = electrons_per_sec\n",
    "temp = 1/t_kel\n",
    "\n",
    "\n",
    "ax.set_ylabel(\"Electrons per Second\", size = 20)\n",
    "ax.set_xlabel(\"1/Temperature\", size = 20)\n",
    "\n",
    "ax.plot(temp,y,color=\"b\",marker=\"o\",markersize=10);"
   ]
  },
  {
   "cell_type": "markdown",
   "metadata": {},
   "source": [
    "## Fit for the band gap energy\n",
    "We will try to fit a model for dark current of the form\n",
    "\n",
    "$D = \\alpha e^{-e_g/2k_bT}$"
   ]
  },
  {
   "cell_type": "code",
   "execution_count": 43,
   "metadata": {},
   "outputs": [],
   "source": [
    "# The Boltzmann constant\n",
    "k_b = 8.6175e-5\n",
    "\n",
    "def dark_current(t_k, alpha, e_g):\n",
    "    \"\"\"\n",
    "    Analytic expression for dark current as a function of temperature.\n",
    "    \n",
    "    Parameters\n",
    "    ----------\n",
    "    t_k : numpy.ndarray\n",
    "        Temperature in Kelvin\n",
    "    alpha : float\n",
    "        Constant coefficient in front of exponential funtion.\n",
    "    e_g : float\n",
    "        Band gap energy in eV.\n",
    "    \n",
    "    Returns\n",
    "    -------\n",
    "    dark_current : numpy.ndarray\n",
    "        Dark current in electrons/pixel/second.\n",
    "    \"\"\"\n",
    "    dark_current = alpha * np.exp(-e_g / (2 * k_b * t_k))\n",
    "    return dark_current"
   ]
  },
  {
   "cell_type": "markdown",
   "metadata": {},
   "source": [
    "## Inital guesses for parameters\n",
    "We need initial guesses for the values of $\\alpha$ and $e_g$."
   ]
  },
  {
   "cell_type": "code",
   "execution_count": 44,
   "metadata": {},
   "outputs": [],
   "source": [
    "t_0 = t_kel[-1]\n",
    "d_0 = electrons_per_sec[-1]\n",
    "\n",
    "alpha_0 =  d_0 / np.exp(-1.1 / (2 * k_b * t_0))\n",
    "e_g_0 = 1.1"
   ]
  },
  {
   "cell_type": "markdown",
   "metadata": {},
   "source": [
    "## Least squares fit"
   ]
  },
  {
   "cell_type": "code",
   "execution_count": 45,
   "metadata": {},
   "outputs": [],
   "source": [
    "p_opt, p_cov = curve_fit(dark_current, t_kel, electrons_per_sec, p0=[alpha_0, e_g_0])\n",
    "\n",
    "# Errors in the fit\n",
    "sig_alpha, sig_e_g = np.sqrt(np.diag(p_cov))"
   ]
  },
  {
   "cell_type": "markdown",
   "metadata": {},
   "source": [
    "## Best fit values"
   ]
  },
  {
   "cell_type": "code",
   "execution_count": 46,
   "metadata": {},
   "outputs": [
    {
     "name": "stdout",
     "output_type": "stream",
     "text": [
      "77098910165.43013\n",
      "1.2205226843061665\n"
     ]
    }
   ],
   "source": [
    "alpha_fit, e_g_fit = p_opt\n",
    "print(alpha_fit)\n",
    "print(e_g_fit)"
   ]
  },
  {
   "cell_type": "markdown",
   "metadata": {},
   "source": [
    "## Plot the data and best fit model\n",
    "\n",
    "Make a plot in the cell below. To plot the model, use the `dark_current` function with `alpha_fit` and `e_g_fit`."
   ]
  },
  {
   "cell_type": "code",
   "execution_count": 63,
   "metadata": {},
   "outputs": [
    {
     "data": {
      "image/png": "[encoded data removed]",
      "text/plain": [
       "<matplotlib.figure.Figure at 0x7f2a9cb06710>"
      ]
     },
     "metadata": {},
     "output_type": "display_data"
    }
   ],
   "source": [
    "fig, ax = plt.subplots(1,1)     \n",
    "fig.set_size_inches(10,6)\n",
    "\n",
    "fig.tight_layout()\n",
    "\n",
    "\n",
    "ax.set_ylabel(\"Dark Current\", size = 20)\n",
    "ax.set_xlabel(\"1/Temperature\", size = 20)\n",
    "\n",
    "ax.plot((1 / t_kel), dark_current(t_kel, alpha_fit, e_g_fit), color='blue');\n",
    "\n",
    "plt.scatter((1 / t_kel), electrons_per_sec, color='r');"
   ]
  },
  {
   "cell_type": "code",
   "execution_count": 66,
   "metadata": {},
   "outputs": [
    {
     "name": "stdout",
     "output_type": "stream",
     "text": [
      "0.45999999999999996\n"
     ]
    }
   ],
   "source": [
    "alpha_final = (24 * 2.3 / 120) / np.exp(-1.1 / (2 * k_b * 273))\n",
    "e_g_final = e_g_0\n",
    "print(dark_current(273, alpha_final, e_g_final))"
   ]
  },
  {
   "cell_type": "code",
   "execution_count": null,
   "metadata": {},
   "outputs": [],
   "source": []
  }
 ],
 "metadata": {
  "anaconda-cloud": {},
  "kernelspec": {
   "display_name": "Python 3",
   "language": "python",
   "name": "python3"
  },
  "language_info": {
   "codemirror_mode": {
    "name": "ipython",
    "version": 3
   },
   "file_extension": ".py",
   "mimetype": "text/x-python",
   "name": "python",
   "nbconvert_exporter": "python",
   "pygments_lexer": "ipython3",
   "version": "3.6.4"
  }
 },
 "nbformat": 4,
 "nbformat_minor": 1
}
