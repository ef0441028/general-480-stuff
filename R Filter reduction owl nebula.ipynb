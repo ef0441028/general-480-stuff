{
 "cells": [
  {
   "cell_type": "markdown",
   "metadata": {},
   "source": [
    "Code used was found on the Lick Observatory PDF linked in the paper references- jointly worked on with Ben Piacitelli"
   ]
  },
  {
   "cell_type": "code",
   "execution_count": 1,
   "metadata": {},
   "outputs": [],
   "source": [
    "from astropy.io import fits\n",
    "import numpy as np"
   ]
  },
  {
   "cell_type": "code",
   "execution_count": 2,
   "metadata": {},
   "outputs": [],
   "source": [
    "!ls *bias*.fits > bias.list"
   ]
  },
  {
   "cell_type": "code",
   "execution_count": 3,
   "metadata": {},
   "outputs": [],
   "source": [
    "biasfiles = [line.rstrip('\\n') for line in open('bias.list')]"
   ]
  },
  {
   "cell_type": "code",
   "execution_count": 4,
   "metadata": {},
   "outputs": [],
   "source": [
    "data_stack = []\n",
    "for file in biasfiles:\n",
    "    data_stack.append(fits.getdata(file))"
   ]
  },
  {
   "cell_type": "code",
   "execution_count": 5,
   "metadata": {},
   "outputs": [],
   "source": [
    "medianBias = np.median(data_stack,axis=0)"
   ]
  },
  {
   "cell_type": "code",
   "execution_count": 6,
   "metadata": {},
   "outputs": [],
   "source": [
    "header = fits.getheader(biasfiles[0])"
   ]
  },
  {
   "cell_type": "code",
   "execution_count": 7,
   "metadata": {},
   "outputs": [],
   "source": [
    "header['HISTORY'] = 'Median combined'"
   ]
  },
  {
   "cell_type": "code",
   "execution_count": 8,
   "metadata": {},
   "outputs": [],
   "source": [
    "datafilesin = [line.rstrip('\\n') for line in open('files_without_bias.list')]\n",
    "datafilesout = [line.rstrip('\\n') for line in open('files_subtracted_bias.list')]\n",
    "\n",
    "\n",
    "n = len(datafilesin)\n",
    "\n",
    "for i in range(0,n):\n",
    "    data = fits.getdata(datafilesin[i],header=False)\n",
    "    dataout = data - medianBias\n",
    "   # header['HISTORY'] = 'Bias subtracted'\n",
    "    fits.writeto(datafilesout[i],dataout)"
   ]
  },
  {
   "cell_type": "code",
   "execution_count": 9,
   "metadata": {},
   "outputs": [],
   "source": [
    "flatfiles_r=[line.rstrip('\\n') for line in open('flats_r.list')]"
   ]
  },
  {
   "cell_type": "code",
   "execution_count": 11,
   "metadata": {},
   "outputs": [],
   "source": [
    "r_flat_stack = []\n",
    "for file in flatfiles_r:\n",
    "    data = fits.getdata(file,header=False)\n",
    "    data = data / np.median(data)\n",
    "    r_flat_stack.append(data)"
   ]
  },
  {
   "cell_type": "code",
   "execution_count": 14,
   "metadata": {},
   "outputs": [],
   "source": [
    "r_flat_median=np.median(r_flat_stack,axis=0)\n",
    "m=np.mean(r_flat_median)\n",
    "r_flat_median=r_flat_median/m\n",
    "\n",
    "#header['HISTORY'] = 'Combined and normalized flat field'\n",
    "fits.writeto('r_flat_median.fits',r_flat_median)"
   ]
  },
  {
   "cell_type": "code",
   "execution_count": 18,
   "metadata": {},
   "outputs": [],
   "source": [
    "r_datain = [line.rstrip('\\n') for line in open('r_data.list')]\n",
    "r_dataout = [line.rstrip('\\n') for line in open('r_data_out.list')]"
   ]
  },
  {
   "cell_type": "code",
   "execution_count": 19,
   "metadata": {},
   "outputs": [
    {
     "name": "stderr",
     "output_type": "stream",
     "text": [
      "/opt/anaconda3/lib/python3.6/site-packages/ipykernel_launcher.py:5: RuntimeWarning: divide by zero encountered in true_divide\n",
      "  \"\"\"\n",
      "/opt/anaconda3/lib/python3.6/site-packages/ipykernel_launcher.py:5: RuntimeWarning: invalid value encountered in true_divide\n",
      "  \"\"\"\n"
     ]
    }
   ],
   "source": [
    "n=len(r_datain)\n",
    "\n",
    "for i in range(0,n):\n",
    " data,header = fits.getdata(r_datain[i],header=True)\n",
    " dataout = data / r_flat_median\n",
    " header['HISTORY'] = 'Flat Fielded'\n",
    " fits.writeto(r_dataout[i],dataout,header)"
   ]
  },
  {
   "cell_type": "code",
   "execution_count": null,
   "metadata": {},
   "outputs": [],
   "source": []
  }
 ],
 "metadata": {
  "kernelspec": {
   "display_name": "Python 3",
   "language": "python",
   "name": "python3"
  },
  "language_info": {
   "codemirror_mode": {
    "name": "ipython",
    "version": 3
   },
   "file_extension": ".py",
   "mimetype": "text/x-python",
   "name": "python",
   "nbconvert_exporter": "python",
   "pygments_lexer": "ipython3",
   "version": "3.6.4"
  }
 },
 "nbformat": 4,
 "nbformat_minor": 2
}
